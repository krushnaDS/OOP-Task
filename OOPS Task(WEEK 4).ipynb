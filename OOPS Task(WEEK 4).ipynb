{
 "cells": [
  {
   "cell_type": "code",
   "execution_count": 1,
   "id": "cc623e06",
   "metadata": {},
   "outputs": [],
   "source": [
    "#Q1, Create a vehicle class with an init method having instance variables as name_of_vehicle, max_speed\n",
    "#    and average_of_vehicle.\n",
    "\n",
    "class vehicle:\n",
    "    def __init__(self,name_of_vehicle,max_speed,average_of_vehicle):\n",
    "        self.name = name_of_vehicle\n",
    "        self.speed = max_speed\n",
    "        self.average = average_of_vehicle\n",
    "        \n",
    "        \n",
    "    "
   ]
  },
  {
   "cell_type": "code",
   "execution_count": 2,
   "id": "65085789",
   "metadata": {},
   "outputs": [],
   "source": [
    "# Q2. Create a child class car from the vehicle class created in Que 1, which will inherit the vehicle class.\n",
    "#    Create a method named seating_capacity which takes capacity as an argument and returns the name of\n",
    "#    the vehicle and its seating capacity.\n",
    "\n",
    "class child_vehicle(vehicle):\n",
    "    def seating_capacity(self,capacity):\n",
    "        return self.name,self.capacity"
   ]
  },
  {
   "cell_type": "code",
   "execution_count": 4,
   "id": "1a22c806",
   "metadata": {},
   "outputs": [],
   "source": [
    "# Q3. What is multiple inheritance? Write a python code to demonstrate multiple inheritance.\n",
    "\n",
    "'''When class is derived from more than one class it is called as Multiple class.'''\n",
    "\n",
    "class parent1:\n",
    "    def meth1(self):\n",
    "        pass\n",
    "    \n",
    "class parent2:\n",
    "    def meth2(self):\n",
    "        pass\n",
    "    \n",
    "class child(parent1 , parent2):\n",
    "    pass"
   ]
  },
  {
   "cell_type": "code",
   "execution_count": 10,
   "id": "219d0eba",
   "metadata": {},
   "outputs": [],
   "source": [
    "'''Q4. What are getter and setter in python? Create a class and create a getter and a setter method in this\n",
    "class.\n",
    "\n",
    "Class variables need not be set directly: they can be set using class methods. This is the object orientated\n",
    "way and helps you avoid mistakes.in same way to get value of the variables defined inside class methods we \n",
    "create get class methods.\n",
    "'''\n",
    "class test:\n",
    "    def set_meth1(self,a):\n",
    "        self.a = a\n",
    "    def get_meth1(self):\n",
    "        return self.a"
   ]
  },
  {
   "cell_type": "code",
   "execution_count": 11,
   "id": "559be014",
   "metadata": {},
   "outputs": [
    {
     "name": "stdout",
     "output_type": "stream",
     "text": [
      "This message is from Emp\n",
      "------------\n",
      "This Department is inherited from Emp\n"
     ]
    }
   ],
   "source": [
    "'''Q5.What is method overriding in python? Write a python code to demonstrate method overriding.\n",
    "\n",
    "The method overriding in Python means creating two methods with the same name but differ in the \n",
    "programming logic. The concept of Method overriding allows us to change or override the Parent \n",
    "Class function in the Child Class.'''\n",
    "\n",
    "class Employee:\n",
    "      \n",
    "    def message(self):\n",
    "        print('This message is from Emp')\n",
    "  \n",
    "class Department(Employee):\n",
    "  \n",
    "    def message(self):\n",
    "        print('This Department is inherited from Emp')\n",
    "  \n",
    "emp = Employee()\n",
    "emp.message()\n",
    "  \n",
    "print('------------')\n",
    "dept = Department()\n",
    "dept.message()"
   ]
  },
  {
   "cell_type": "code",
   "execution_count": null,
   "id": "1f8116ef",
   "metadata": {},
   "outputs": [],
   "source": []
  }
 ],
 "metadata": {
  "kernelspec": {
   "display_name": "Python 3 (ipykernel)",
   "language": "python",
   "name": "python3"
  },
  "language_info": {
   "codemirror_mode": {
    "name": "ipython",
    "version": 3
   },
   "file_extension": ".py",
   "mimetype": "text/x-python",
   "name": "python",
   "nbconvert_exporter": "python",
   "pygments_lexer": "ipython3",
   "version": "3.10.9"
  }
 },
 "nbformat": 4,
 "nbformat_minor": 5
}
